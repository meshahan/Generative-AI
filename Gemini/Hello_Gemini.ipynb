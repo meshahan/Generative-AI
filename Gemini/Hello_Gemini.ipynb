{
  "nbformat": 4,
  "nbformat_minor": 0,
  "metadata": {
    "colab": {
      "provenance": [],
      "gpuType": "T4"
    },
    "kernelspec": {
      "name": "python3",
      "display_name": "Python 3"
    },
    "language_info": {
      "name": "python"
    },
    "accelerator": "GPU"
  },
  "cells": [
    {
      "cell_type": "code",
      "source": [
        "!pip install langchain"
      ],
      "metadata": {
        "collapsed": true,
        "colab": {
          "base_uri": "https://localhost:8080/"
        },
        "id": "gQ2O0SOSXMUa",
        "outputId": "32af2d2f-a984-4c47-cb57-44d5b465cad2"
      },
      "execution_count": 80,
      "outputs": [
        {
          "output_type": "stream",
          "name": "stdout",
          "text": [
            "Requirement already satisfied: langchain in /usr/local/lib/python3.10/dist-packages (0.3.12)\n",
            "Requirement already satisfied: PyYAML>=5.3 in /usr/local/lib/python3.10/dist-packages (from langchain) (6.0.2)\n",
            "Requirement already satisfied: SQLAlchemy<3,>=1.4 in /usr/local/lib/python3.10/dist-packages (from langchain) (2.0.36)\n",
            "Requirement already satisfied: aiohttp<4.0.0,>=3.8.3 in /usr/local/lib/python3.10/dist-packages (from langchain) (3.11.10)\n",
            "Requirement already satisfied: async-timeout<5.0.0,>=4.0.0 in /usr/local/lib/python3.10/dist-packages (from langchain) (4.0.3)\n",
            "Requirement already satisfied: langchain-core<0.4.0,>=0.3.25 in /usr/local/lib/python3.10/dist-packages (from langchain) (0.3.25)\n",
            "Requirement already satisfied: langchain-text-splitters<0.4.0,>=0.3.3 in /usr/local/lib/python3.10/dist-packages (from langchain) (0.3.3)\n",
            "Requirement already satisfied: langsmith<0.3,>=0.1.17 in /usr/local/lib/python3.10/dist-packages (from langchain) (0.2.3)\n",
            "Requirement already satisfied: numpy<2,>=1.22.4 in /usr/local/lib/python3.10/dist-packages (from langchain) (1.26.4)\n",
            "Requirement already satisfied: pydantic<3.0.0,>=2.7.4 in /usr/local/lib/python3.10/dist-packages (from langchain) (2.10.3)\n",
            "Requirement already satisfied: requests<3,>=2 in /usr/local/lib/python3.10/dist-packages (from langchain) (2.32.3)\n",
            "Requirement already satisfied: tenacity!=8.4.0,<10,>=8.1.0 in /usr/local/lib/python3.10/dist-packages (from langchain) (9.0.0)\n",
            "Requirement already satisfied: aiohappyeyeballs>=2.3.0 in /usr/local/lib/python3.10/dist-packages (from aiohttp<4.0.0,>=3.8.3->langchain) (2.4.4)\n",
            "Requirement already satisfied: aiosignal>=1.1.2 in /usr/local/lib/python3.10/dist-packages (from aiohttp<4.0.0,>=3.8.3->langchain) (1.3.2)\n",
            "Requirement already satisfied: attrs>=17.3.0 in /usr/local/lib/python3.10/dist-packages (from aiohttp<4.0.0,>=3.8.3->langchain) (24.3.0)\n",
            "Requirement already satisfied: frozenlist>=1.1.1 in /usr/local/lib/python3.10/dist-packages (from aiohttp<4.0.0,>=3.8.3->langchain) (1.5.0)\n",
            "Requirement already satisfied: multidict<7.0,>=4.5 in /usr/local/lib/python3.10/dist-packages (from aiohttp<4.0.0,>=3.8.3->langchain) (6.1.0)\n",
            "Requirement already satisfied: propcache>=0.2.0 in /usr/local/lib/python3.10/dist-packages (from aiohttp<4.0.0,>=3.8.3->langchain) (0.2.1)\n",
            "Requirement already satisfied: yarl<2.0,>=1.17.0 in /usr/local/lib/python3.10/dist-packages (from aiohttp<4.0.0,>=3.8.3->langchain) (1.18.3)\n",
            "Requirement already satisfied: jsonpatch<2.0,>=1.33 in /usr/local/lib/python3.10/dist-packages (from langchain-core<0.4.0,>=0.3.25->langchain) (1.33)\n",
            "Requirement already satisfied: packaging<25,>=23.2 in /usr/local/lib/python3.10/dist-packages (from langchain-core<0.4.0,>=0.3.25->langchain) (24.2)\n",
            "Requirement already satisfied: typing-extensions>=4.7 in /usr/local/lib/python3.10/dist-packages (from langchain-core<0.4.0,>=0.3.25->langchain) (4.12.2)\n",
            "Requirement already satisfied: httpx<1,>=0.23.0 in /usr/local/lib/python3.10/dist-packages (from langsmith<0.3,>=0.1.17->langchain) (0.28.1)\n",
            "Requirement already satisfied: orjson<4.0.0,>=3.9.14 in /usr/local/lib/python3.10/dist-packages (from langsmith<0.3,>=0.1.17->langchain) (3.10.12)\n",
            "Requirement already satisfied: requests-toolbelt<2.0.0,>=1.0.0 in /usr/local/lib/python3.10/dist-packages (from langsmith<0.3,>=0.1.17->langchain) (1.0.0)\n",
            "Requirement already satisfied: annotated-types>=0.6.0 in /usr/local/lib/python3.10/dist-packages (from pydantic<3.0.0,>=2.7.4->langchain) (0.7.0)\n",
            "Requirement already satisfied: pydantic-core==2.27.1 in /usr/local/lib/python3.10/dist-packages (from pydantic<3.0.0,>=2.7.4->langchain) (2.27.1)\n",
            "Requirement already satisfied: charset-normalizer<4,>=2 in /usr/local/lib/python3.10/dist-packages (from requests<3,>=2->langchain) (3.4.0)\n",
            "Requirement already satisfied: idna<4,>=2.5 in /usr/local/lib/python3.10/dist-packages (from requests<3,>=2->langchain) (3.10)\n",
            "Requirement already satisfied: urllib3<3,>=1.21.1 in /usr/local/lib/python3.10/dist-packages (from requests<3,>=2->langchain) (2.2.3)\n",
            "Requirement already satisfied: certifi>=2017.4.17 in /usr/local/lib/python3.10/dist-packages (from requests<3,>=2->langchain) (2024.12.14)\n",
            "Requirement already satisfied: greenlet!=0.4.17 in /usr/local/lib/python3.10/dist-packages (from SQLAlchemy<3,>=1.4->langchain) (3.1.1)\n",
            "Requirement already satisfied: anyio in /usr/local/lib/python3.10/dist-packages (from httpx<1,>=0.23.0->langsmith<0.3,>=0.1.17->langchain) (3.7.1)\n",
            "Requirement already satisfied: httpcore==1.* in /usr/local/lib/python3.10/dist-packages (from httpx<1,>=0.23.0->langsmith<0.3,>=0.1.17->langchain) (1.0.7)\n",
            "Requirement already satisfied: h11<0.15,>=0.13 in /usr/local/lib/python3.10/dist-packages (from httpcore==1.*->httpx<1,>=0.23.0->langsmith<0.3,>=0.1.17->langchain) (0.14.0)\n",
            "Requirement already satisfied: jsonpointer>=1.9 in /usr/local/lib/python3.10/dist-packages (from jsonpatch<2.0,>=1.33->langchain-core<0.4.0,>=0.3.25->langchain) (3.0.0)\n",
            "Requirement already satisfied: sniffio>=1.1 in /usr/local/lib/python3.10/dist-packages (from anyio->httpx<1,>=0.23.0->langsmith<0.3,>=0.1.17->langchain) (1.3.1)\n",
            "Requirement already satisfied: exceptiongroup in /usr/local/lib/python3.10/dist-packages (from anyio->httpx<1,>=0.23.0->langsmith<0.3,>=0.1.17->langchain) (1.2.2)\n"
          ]
        }
      ]
    },
    {
      "cell_type": "code",
      "source": [
        "from langchain.prompts import PromptTemplate\n",
        "from langchain.chains import LLMChain\n",
        "from google.colab import userdata\n",
        "from langchain_google_genai import ChatGoogleGenerativeAI"
      ],
      "metadata": {
        "id": "0onPu48QXUlN"
      },
      "execution_count": 81,
      "outputs": []
    },
    {
      "cell_type": "code",
      "source": [
        "gemini_api_key = userdata.get('GOOGLE_API_KEY')"
      ],
      "metadata": {
        "id": "tEAIO9iBXcGA"
      },
      "execution_count": 83,
      "outputs": []
    },
    {
      "cell_type": "code",
      "source": [
        "llm = ChatGoogleGenerativeAI(\n",
        "    model=\"gemini-1.5-flash\",    # The model version\n",
        "    max_retries=3,               # Set the number of retries\n",
        "    temperature=0.2,             # Control the creativity (lower is more deterministic)\n",
        "    max_tokens=1000,             # Set the max number of tokens in the response\n",
        "    top_p=0.9,                   # Control for diversity in response\n",
        "    frequency_penalty=0.2,       # Penalize frequent tokens\n",
        "    presence_penalty=0.1,        # Penalize repeating topics\n",
        "    api_key=gemini_api_key       # Provide your valid API key\n",
        ")"
      ],
      "metadata": {
        "id": "RYumqCtYXh_q"
      },
      "execution_count": 89,
      "outputs": []
    },
    {
      "cell_type": "code",
      "source": [
        "prompt_template = PromptTemplate(\n",
        "    input_variables=[\"question\"],\n",
        "    template=\"You are an Orthopedic Specialist . Answer the following question:\\n\\n{question}\"\n",
        ")"
      ],
      "metadata": {
        "id": "xEw9fhG5Xmqx"
      },
      "execution_count": 85,
      "outputs": []
    },
    {
      "cell_type": "code",
      "source": [
        "chain = LLMChain(llm=llm, prompt=prompt_template)"
      ],
      "metadata": {
        "colab": {
          "base_uri": "https://localhost:8080/"
        },
        "collapsed": true,
        "id": "9F-Z0Rd6XrW_",
        "outputId": "6644a290-47d5-4a01-88e5-a0356c649064"
      },
      "execution_count": 86,
      "outputs": [
        {
          "output_type": "stream",
          "name": "stderr",
          "text": [
            "<ipython-input-86-4f9708b53e60>:1: LangChainDeprecationWarning: The class `LLMChain` was deprecated in LangChain 0.1.17 and will be removed in 1.0. Use :meth:`~RunnableSequence, e.g., `prompt | llm`` instead.\n",
            "  chain = LLMChain(llm=llm, prompt=prompt_template)\n"
          ]
        }
      ]
    },
    {
      "cell_type": "code",
      "source": [
        "questions = [\n",
        "    \"What are the common causes of chronic back pain, and how can they be prevented?\",\n",
        "    \"What is the difference between osteoarthritis and rheumatoid arthritis, and how do treatments differ for each?\",\n",
        "    \"What are the most effective treatments for a torn ACL (anterior cruciate ligament)?\",\n",
        "    \"How does a hip replacement surgery improve mobility in patients with severe arthritis, and what are the risks involved?\",\n",
        "    \"What are the symptoms and treatment options for carpal tunnel syndrome, and when is surgery necessary?\"\n",
        "]\n",
        "response = chain.run({\"question\": questions})\n",
        "\n",
        "print(\"Hasnain's Coding World\")\n",
        "print('='*40)\n",
        "print(\"Question:\", questions)\n",
        "print(\"Answer:\", response)"
      ],
      "metadata": {
        "colab": {
          "base_uri": "https://localhost:8080/"
        },
        "id": "pi6FJDWWX2Lk",
        "outputId": "2d72c614-520a-4629-ae77-50ea18a3dadd"
      },
      "execution_count": 90,
      "outputs": [
        {
          "output_type": "stream",
          "name": "stdout",
          "text": [
            "Hasnain's Coding World\n",
            "========================================\n",
            "Question: ['What are the common causes of chronic back pain, and how can they be prevented?', 'What is the difference between osteoarthritis and rheumatoid arthritis, and how do treatments differ for each?', 'What are the most effective treatments for a torn ACL (anterior cruciate ligament)?', 'How does a hip replacement surgery improve mobility in patients with severe arthritis, and what are the risks involved?', 'What are the symptoms and treatment options for carpal tunnel syndrome, and when is surgery necessary?']\n",
            "Answer: Let's address each question individually:\n",
            "\n",
            "**1. What are the common causes of chronic back pain, and how can they be prevented?**\n",
            "\n",
            "Common causes of chronic back pain include:\n",
            "\n",
            "* **Poor posture:**  Slouching, prolonged sitting, and improper lifting techniques strain back muscles and ligaments.\n",
            "* **Muscle strains and sprains:** Overexertion, sudden movements, or weak core muscles can lead to injuries.\n",
            "* **Disc problems:** Degenerative disc disease, herniated discs, and bulging discs can compress nerves, causing pain.\n",
            "* **Osteoarthritis:**  Degeneration of the cartilage in the spine.\n",
            "* **Spinal stenosis:** Narrowing of the spinal canal, putting pressure on nerves.\n",
            "* **Scoliosis:** A sideways curvature of the spine.\n",
            "* **Fibromyalgia:** A chronic condition causing widespread pain and fatigue.\n",
            "\n",
            "\n",
            "Prevention strategies include:\n",
            "\n",
            "* **Maintaining good posture:**  Sit and stand tall, supporting your lower back.\n",
            "* **Strengthening core muscles:**  Exercises like planks, bridges, and crunches stabilize the spine.\n",
            "* **Proper lifting techniques:** Bend your knees, keep your back straight, and lift with your legs.\n",
            "* **Maintaining a healthy weight:** Excess weight puts extra stress on the back.\n",
            "* **Regular exercise:**  Improves flexibility, strength, and overall fitness.\n",
            "* **Ergonomic workspace:**  Ensure your chair, desk, and computer are properly positioned.\n",
            "\n",
            "\n",
            "**2. What is the difference between osteoarthritis and rheumatoid arthritis, and how do treatments differ for each?**\n",
            "\n",
            "* **Osteoarthritis (OA):** A degenerative joint disease where cartilage breaks down, causing pain, stiffness, and reduced mobility. It's primarily a \"wear and tear\" condition, often affecting weight-bearing joints.\n",
            "\n",
            "* **Rheumatoid arthritis (RA):** An autoimmune disease where the body's immune system attacks the joints, causing inflammation, pain, swelling, and stiffness. It can affect multiple joints symmetrically.\n",
            "\n",
            "\n",
            "Treatment differences:\n",
            "\n",
            "* **OA:** Treatment focuses on pain management and slowing progression. This includes pain relievers (acetaminophen, NSAIDs), physical therapy, weight loss (if overweight), joint injections (cortisone), and in severe cases, joint replacement surgery.\n",
            "\n",
            "* **RA:** Treatment aims to suppress the immune system and reduce inflammation. This involves disease-modifying antirheumatic drugs (DMARDs), biologics (targeted therapies), NSAIDs, corticosteroids, and physical therapy.  Surgery may be necessary in severe cases to repair damaged joints.\n",
            "\n",
            "\n",
            "**3. What are the most effective treatments for a torn ACL (anterior cruciate ligament)?**\n",
            "\n",
            "Treatment depends on the severity of the tear and the individual's activity level. Options include:\n",
            "\n",
            "* **Non-surgical treatment:**  This involves RICE (rest, ice, compression, elevation), physical therapy to strengthen the surrounding muscles, and bracing.  Suitable for minor tears and individuals with low activity levels.\n",
            "\n",
            "* **Surgical treatment (ACL reconstruction):**  This involves replacing the torn ligament with a graft from another tendon in the body.  This is usually necessary for significant tears and athletes or individuals with high activity levels.  Post-surgery, extensive physical therapy is crucial for recovery.\n",
            "\n",
            "\n",
            "**4. How does a hip replacement surgery improve mobility in patients with severe arthritis, and what are the risks involved?**\n",
            "\n",
            "Hip replacement surgery involves removing the damaged parts of the hip joint and replacing them with artificial components. This significantly reduces pain and improves mobility by restoring the joint's smooth movement.\n",
            "\n",
            "Risks involved include:\n",
            "\n",
            "* **Infection:**  A risk with any surgery.\n",
            "* **Blood clots:**  Can lead to pulmonary embolism (blood clot in the lung).\n",
            "* **Dislocation:**  The artificial joint can dislocate.\n",
            "* **Nerve damage:**  Can cause numbness or weakness.\n",
            "* **Fracture:**  Of the bone around the implant.\n",
            "* **Implant loosening:**  May require revision surgery.\n",
            "\n",
            "\n",
            "**5. What are the symptoms and treatment options for carpal tunnel syndrome, and when is surgery necessary?**\n",
            "\n",
            "Carpal tunnel syndrome is caused by compression of the median nerve in the wrist. Symptoms include:\n",
            "\n",
            "* **Numbness and tingling:** In the thumb, index, middle, and ring fingers.\n",
            "* **Pain:** In the hand and wrist.\n",
            "* **Weakness:** In the hand, making it difficult to grip objects.\n",
            "* **Swelling:** In the hand and wrist.\n",
            "\n",
            "\n",
            "Treatment options:\n",
            "\n",
            "* **Conservative treatment:**  This includes wrist splints, NSAIDs, corticosteroid injections, and physical therapy.\n",
            "\n",
            "* **Surgery (carpal tunnel release):**  This is considered when conservative treatments fail to provide relief or if symptoms are severe.  Surgery involves cutting the ligament that compresses the median nerve.\n",
            "\n",
            "\n",
            "This information is for general knowledge and does not constitute medical advice.  Always consult with a healthcare professional for diagnosis and treatment of any medical condition.\n",
            "\n"
          ]
        }
      ]
    }
  ]
}